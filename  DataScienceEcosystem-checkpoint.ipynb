{
 "cells": [
  {
   "cell_type": "markdown",
   "id": "2ebfa200",
   "metadata": {},
   "source": [
    "# Data Science Tools and Ecosystem\n"
   ]
  },
  {
   "cell_type": "markdown",
   "id": "cdb97b5d",
   "metadata": {},
   "source": [
    "In this notebook, Data Science Tools and Ecosystem are summarized."
   ]
  },
  {
   "cell_type": "markdown",
   "id": "87c6b7c4",
   "metadata": {},
   "source": [
    "Some of the popular languages that Data Scientists use are:\n",
    "1. Python\n",
    "2. R\n",
    "3. Julia\n"
   ]
  },
  {
   "cell_type": "markdown",
   "id": "8c9ff0b1",
   "metadata": {},
   "source": [
    "Some of the commonly used libraries used by Data Scientists include:Some of the commonly used libraries used by Data Scientists include:\n",
    "\n",
    "For Python:\n",
    "1. Pandas\n",
    "2. NumPy\n",
    "3. Seaborn\n",
    "\n",
    "For R:\n",
    "1. dplyr\n",
    "2. ggplot2\n",
    "3. tidyr\n",
    "\n",
    "For Julia:\n",
    "1. DataFrames\n",
    "2. Plots\n",
    "3. Query\n"
   ]
  },
  {
   "cell_type": "markdown",
   "id": "4d65864b",
   "metadata": {},
   "source": [
    "| Data Science Tools |\n",
    "|-------------------|\n",
    "| Tool 1 (e.g., Jupyter Notebook) |\n",
    "| Tool 2 (e.g., RStudio) |\n",
    "| Tool 3 (e.g., VS Code with Python extensions) |\n"
   ]
  },
  {
   "cell_type": "markdown",
   "id": "60bbea27",
   "metadata": {},
   "source": [
    "### Below are a few examples of evaluating arithmetic expressions in Python\n"
   ]
  },
  {
   "cell_type": "code",
   "execution_count": 1,
   "id": "e368294b",
   "metadata": {},
   "outputs": [
    {
     "data": {
      "text/plain": [
       "17"
      ]
     },
     "execution_count": 1,
     "metadata": {},
     "output_type": "execute_result"
    }
   ],
   "source": [
    "# This is a simple arithmetic expression to multiply then add integers.\n",
    "(3*4)+5\n"
   ]
  },
  {
   "cell_type": "code",
   "execution_count": 2,
   "id": "6cd802e3",
   "metadata": {},
   "outputs": [
    {
     "data": {
      "text/plain": [
       "3.3333333333333335"
      ]
     },
     "execution_count": 2,
     "metadata": {},
     "output_type": "execute_result"
    }
   ],
   "source": [
    "# This will convert 200 minutes to hours by dividing by 60.\n",
    "200 / 60"
   ]
  },
  {
   "cell_type": "markdown",
   "id": "f1841ec8",
   "metadata": {},
   "source": [
    "**Objectives:**\n",
    "\n",
    "- List popular languages for Data Science.\n",
    "- Introduce commonly used libraries in Data Science.\n",
    "- Create a table of Data Science tools.\n",
    "- Evaluate arithmetic expressions in Python.\n",
    "- Convert minutes to hours in a code cell.\n"
   ]
  },
  {
   "cell_type": "markdown",
   "id": "8b5956ad",
   "metadata": {},
   "source": [
    "## Author\n",
    "Ricardo Pérez Ortega\n"
   ]
  }
 ],
 "metadata": {
  "kernelspec": {
   "display_name": "Python 3 (ipykernel)",
   "language": "python",
   "name": "python3"
  },
  "language_info": {
   "codemirror_mode": {
    "name": "ipython",
    "version": 3
   },
   "file_extension": ".py",
   "mimetype": "text/x-python",
   "name": "python",
   "nbconvert_exporter": "python",
   "pygments_lexer": "ipython3",
   "version": "3.11.5"
  }
 },
 "nbformat": 4,
 "nbformat_minor": 5
}
